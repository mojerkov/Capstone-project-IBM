{
 "cells": [
  {
   "cell_type": "markdown",
   "metadata": {},
   "source": [
    "<center> <h2>CAR ACCIDENT SEVERITY </h2>  \n",
    "<center> <h3>IBM Data Science Specialization – Capstone Project</h3> "
   ]
  },
  {
   "cell_type": "markdown",
   "metadata": {},
   "source": [
    "<span style=\"color:Darkblue\">**Introduction/Business Problem**</span>   \n",
    "\n",
    "The goal of this project is to predict the severity of a traffic accident. Car accidents are undesirable and dangerous for all traffic participants. Information about road conditions and possibility of one getting into car accident and its intensity could be signal for changing a traffic route. This, along with driving safely at all time, could save many lives caused by traffic disasters. Therefore, prediction of traffic accident severity is one of the main things that improve traffic management process. Since car accidents are unexpected, recognition of most important influences might be a substantial key for improving traffic safety. Said that, it is obvious that WHS consultant, facilitators, traffic consultants, safety officers and other people involved in traffic management process might find this kind of project quite useful.\n",
    "\n"
   ]
  },
  {
   "cell_type": "markdown",
   "metadata": {},
   "source": [
    "<span style=\"color:Darkblue\">**Data - Preprocessing, Explanatory and Features Selection**</span>   \n",
    "\n",
    "Data used in this project are data about trafic collisions recorded in Seattle area. All data are provided by Seattle Police Department and recorded by SDOT Traffic Management Division, Traffic Records Group since 2004. Data could be downloaded at https://s3.us.cloud-object-storage.appdomain.cloud/cf-courses-data/CognitiveClass/DP0701EN/version-2/Data-Collisions.csv \n",
    "In total, there are 37 attributes. Target of the data is severity which describes the fatality of an accident (variable SEVERITYCODE). While reviewing data in order to choose potential features set, fields of long unique descriptions, fields representing unique ID data related to the recordings of the police or some other institution and data that are recorded after collision happened are disregarded. Data that might contribute to determining accident severity might include collision address type (ADDRTYPE), date and time (INCDTTM), category of junction (JUNCTIONTYPE), whether or not a driver involved is under the influence of drugs or alcohol (UNDERINFL), weather conditions (WEATHER), condition of the road (ROADCOND) and light conditions (LIGHTCOND). \n"
   ]
  },
  {
   "cell_type": "code",
   "execution_count": 1,
   "metadata": {},
   "outputs": [],
   "source": [
    "import itertools\n",
    "import numpy as np\n",
    "import matplotlib.pyplot as plt\n",
    "from matplotlib.ticker import NullFormatter\n",
    "import pandas as pd\n",
    "import pylab as pl\n",
    "import matplotlib.ticker as ticker\n",
    "from sklearn import preprocessing\n",
    "import scipy.optimize as opt\n",
    "import seaborn as sns\n",
    "%matplotlib inline\n"
   ]
  },
  {
   "cell_type": "code",
   "execution_count": 2,
   "metadata": {},
   "outputs": [
    {
     "name": "stdout",
     "output_type": "stream",
     "text": [
      "--2020-09-09 10:50:11--  https://s3.us.cloud-object-storage.appdomain.cloud/cf-courses-data/CognitiveClass/DP0701EN/version-2/Data-Collisions.csv\n",
      "Resolving s3.us.cloud-object-storage.appdomain.cloud (s3.us.cloud-object-storage.appdomain.cloud)... 67.228.254.196\n",
      "Connecting to s3.us.cloud-object-storage.appdomain.cloud (s3.us.cloud-object-storage.appdomain.cloud)|67.228.254.196|:443... connected.\n",
      "HTTP request sent, awaiting response... 200 OK\n",
      "Length: 73917638 (70M) [text/csv]\n",
      "Saving to: ‘Data-Collisions.csv’\n",
      "\n",
      "Data-Collisions.csv 100%[===================>]  70.49M  18.2MB/s    in 4.2s    \n",
      "\n",
      "2020-09-09 10:50:16 (16.9 MB/s) - ‘Data-Collisions.csv’ saved [73917638/73917638]\n",
      "\n"
     ]
    }
   ],
   "source": [
    "!wget -O Data-Collisions.csv https://s3.us.cloud-object-storage.appdomain.cloud/cf-courses-data/CognitiveClass/DP0701EN/version-2/Data-Collisions.csv"
   ]
  },
  {
   "cell_type": "code",
   "execution_count": 3,
   "metadata": {},
   "outputs": [
    {
     "name": "stderr",
     "output_type": "stream",
     "text": [
      "/home/jupyterlab/conda/envs/python/lib/python3.6/site-packages/IPython/core/interactiveshell.py:3072: DtypeWarning: Columns (33) have mixed types.Specify dtype option on import or set low_memory=False.\n",
      "  interactivity=interactivity, compiler=compiler, result=result)\n"
     ]
    },
    {
     "data": {
      "text/html": [
       "<div>\n",
       "<style scoped>\n",
       "    .dataframe tbody tr th:only-of-type {\n",
       "        vertical-align: middle;\n",
       "    }\n",
       "\n",
       "    .dataframe tbody tr th {\n",
       "        vertical-align: top;\n",
       "    }\n",
       "\n",
       "    .dataframe thead th {\n",
       "        text-align: right;\n",
       "    }\n",
       "</style>\n",
       "<table border=\"1\" class=\"dataframe\">\n",
       "  <thead>\n",
       "    <tr style=\"text-align: right;\">\n",
       "      <th></th>\n",
       "      <th>SEVERITYCODE</th>\n",
       "      <th>X</th>\n",
       "      <th>Y</th>\n",
       "      <th>OBJECTID</th>\n",
       "      <th>INCKEY</th>\n",
       "      <th>COLDETKEY</th>\n",
       "      <th>REPORTNO</th>\n",
       "      <th>STATUS</th>\n",
       "      <th>ADDRTYPE</th>\n",
       "      <th>INTKEY</th>\n",
       "      <th>...</th>\n",
       "      <th>ROADCOND</th>\n",
       "      <th>LIGHTCOND</th>\n",
       "      <th>PEDROWNOTGRNT</th>\n",
       "      <th>SDOTCOLNUM</th>\n",
       "      <th>SPEEDING</th>\n",
       "      <th>ST_COLCODE</th>\n",
       "      <th>ST_COLDESC</th>\n",
       "      <th>SEGLANEKEY</th>\n",
       "      <th>CROSSWALKKEY</th>\n",
       "      <th>HITPARKEDCAR</th>\n",
       "    </tr>\n",
       "  </thead>\n",
       "  <tbody>\n",
       "    <tr>\n",
       "      <th>0</th>\n",
       "      <td>2</td>\n",
       "      <td>-122.323148</td>\n",
       "      <td>47.703140</td>\n",
       "      <td>1</td>\n",
       "      <td>1307</td>\n",
       "      <td>1307</td>\n",
       "      <td>3502005</td>\n",
       "      <td>Matched</td>\n",
       "      <td>Intersection</td>\n",
       "      <td>37475.0</td>\n",
       "      <td>...</td>\n",
       "      <td>Wet</td>\n",
       "      <td>Daylight</td>\n",
       "      <td>NaN</td>\n",
       "      <td>NaN</td>\n",
       "      <td>NaN</td>\n",
       "      <td>10</td>\n",
       "      <td>Entering at angle</td>\n",
       "      <td>0</td>\n",
       "      <td>0</td>\n",
       "      <td>N</td>\n",
       "    </tr>\n",
       "    <tr>\n",
       "      <th>1</th>\n",
       "      <td>1</td>\n",
       "      <td>-122.347294</td>\n",
       "      <td>47.647172</td>\n",
       "      <td>2</td>\n",
       "      <td>52200</td>\n",
       "      <td>52200</td>\n",
       "      <td>2607959</td>\n",
       "      <td>Matched</td>\n",
       "      <td>Block</td>\n",
       "      <td>NaN</td>\n",
       "      <td>...</td>\n",
       "      <td>Wet</td>\n",
       "      <td>Dark - Street Lights On</td>\n",
       "      <td>NaN</td>\n",
       "      <td>6354039.0</td>\n",
       "      <td>NaN</td>\n",
       "      <td>11</td>\n",
       "      <td>From same direction - both going straight - bo...</td>\n",
       "      <td>0</td>\n",
       "      <td>0</td>\n",
       "      <td>N</td>\n",
       "    </tr>\n",
       "    <tr>\n",
       "      <th>2</th>\n",
       "      <td>1</td>\n",
       "      <td>-122.334540</td>\n",
       "      <td>47.607871</td>\n",
       "      <td>3</td>\n",
       "      <td>26700</td>\n",
       "      <td>26700</td>\n",
       "      <td>1482393</td>\n",
       "      <td>Matched</td>\n",
       "      <td>Block</td>\n",
       "      <td>NaN</td>\n",
       "      <td>...</td>\n",
       "      <td>Dry</td>\n",
       "      <td>Daylight</td>\n",
       "      <td>NaN</td>\n",
       "      <td>4323031.0</td>\n",
       "      <td>NaN</td>\n",
       "      <td>32</td>\n",
       "      <td>One parked--one moving</td>\n",
       "      <td>0</td>\n",
       "      <td>0</td>\n",
       "      <td>N</td>\n",
       "    </tr>\n",
       "    <tr>\n",
       "      <th>3</th>\n",
       "      <td>1</td>\n",
       "      <td>-122.334803</td>\n",
       "      <td>47.604803</td>\n",
       "      <td>4</td>\n",
       "      <td>1144</td>\n",
       "      <td>1144</td>\n",
       "      <td>3503937</td>\n",
       "      <td>Matched</td>\n",
       "      <td>Block</td>\n",
       "      <td>NaN</td>\n",
       "      <td>...</td>\n",
       "      <td>Dry</td>\n",
       "      <td>Daylight</td>\n",
       "      <td>NaN</td>\n",
       "      <td>NaN</td>\n",
       "      <td>NaN</td>\n",
       "      <td>23</td>\n",
       "      <td>From same direction - all others</td>\n",
       "      <td>0</td>\n",
       "      <td>0</td>\n",
       "      <td>N</td>\n",
       "    </tr>\n",
       "    <tr>\n",
       "      <th>4</th>\n",
       "      <td>2</td>\n",
       "      <td>-122.306426</td>\n",
       "      <td>47.545739</td>\n",
       "      <td>5</td>\n",
       "      <td>17700</td>\n",
       "      <td>17700</td>\n",
       "      <td>1807429</td>\n",
       "      <td>Matched</td>\n",
       "      <td>Intersection</td>\n",
       "      <td>34387.0</td>\n",
       "      <td>...</td>\n",
       "      <td>Wet</td>\n",
       "      <td>Daylight</td>\n",
       "      <td>NaN</td>\n",
       "      <td>4028032.0</td>\n",
       "      <td>NaN</td>\n",
       "      <td>10</td>\n",
       "      <td>Entering at angle</td>\n",
       "      <td>0</td>\n",
       "      <td>0</td>\n",
       "      <td>N</td>\n",
       "    </tr>\n",
       "  </tbody>\n",
       "</table>\n",
       "<p>5 rows × 38 columns</p>\n",
       "</div>"
      ],
      "text/plain": [
       "   SEVERITYCODE           X          Y  OBJECTID  INCKEY  COLDETKEY REPORTNO  \\\n",
       "0             2 -122.323148  47.703140         1    1307       1307  3502005   \n",
       "1             1 -122.347294  47.647172         2   52200      52200  2607959   \n",
       "2             1 -122.334540  47.607871         3   26700      26700  1482393   \n",
       "3             1 -122.334803  47.604803         4    1144       1144  3503937   \n",
       "4             2 -122.306426  47.545739         5   17700      17700  1807429   \n",
       "\n",
       "    STATUS      ADDRTYPE   INTKEY  ... ROADCOND                LIGHTCOND  \\\n",
       "0  Matched  Intersection  37475.0  ...      Wet                 Daylight   \n",
       "1  Matched         Block      NaN  ...      Wet  Dark - Street Lights On   \n",
       "2  Matched         Block      NaN  ...      Dry                 Daylight   \n",
       "3  Matched         Block      NaN  ...      Dry                 Daylight   \n",
       "4  Matched  Intersection  34387.0  ...      Wet                 Daylight   \n",
       "\n",
       "  PEDROWNOTGRNT  SDOTCOLNUM SPEEDING ST_COLCODE  \\\n",
       "0           NaN         NaN      NaN         10   \n",
       "1           NaN   6354039.0      NaN         11   \n",
       "2           NaN   4323031.0      NaN         32   \n",
       "3           NaN         NaN      NaN         23   \n",
       "4           NaN   4028032.0      NaN         10   \n",
       "\n",
       "                                          ST_COLDESC  SEGLANEKEY  \\\n",
       "0                                  Entering at angle           0   \n",
       "1  From same direction - both going straight - bo...           0   \n",
       "2                             One parked--one moving           0   \n",
       "3                   From same direction - all others           0   \n",
       "4                                  Entering at angle           0   \n",
       "\n",
       "   CROSSWALKKEY  HITPARKEDCAR  \n",
       "0             0             N  \n",
       "1             0             N  \n",
       "2             0             N  \n",
       "3             0             N  \n",
       "4             0             N  \n",
       "\n",
       "[5 rows x 38 columns]"
      ]
     },
     "execution_count": 3,
     "metadata": {},
     "output_type": "execute_result"
    }
   ],
   "source": [
    "data_df = pd.read_csv (r'Data-Collisions.csv')\n",
    "data_df.head()"
   ]
  },
  {
   "cell_type": "code",
   "execution_count": 4,
   "metadata": {},
   "outputs": [
    {
     "data": {
      "text/plain": [
       "(194673, 38)"
      ]
     },
     "execution_count": 4,
     "metadata": {},
     "output_type": "execute_result"
    }
   ],
   "source": [
    "data_df.shape"
   ]
  },
  {
   "cell_type": "code",
   "execution_count": 5,
   "metadata": {},
   "outputs": [
    {
     "data": {
      "text/plain": [
       "Index(['SEVERITYCODE', 'X', 'Y', 'OBJECTID', 'INCKEY', 'COLDETKEY', 'REPORTNO',\n",
       "       'STATUS', 'ADDRTYPE', 'INTKEY', 'LOCATION', 'EXCEPTRSNCODE',\n",
       "       'EXCEPTRSNDESC', 'SEVERITYCODE.1', 'SEVERITYDESC', 'COLLISIONTYPE',\n",
       "       'PERSONCOUNT', 'PEDCOUNT', 'PEDCYLCOUNT', 'VEHCOUNT', 'INCDATE',\n",
       "       'INCDTTM', 'JUNCTIONTYPE', 'SDOT_COLCODE', 'SDOT_COLDESC',\n",
       "       'INATTENTIONIND', 'UNDERINFL', 'WEATHER', 'ROADCOND', 'LIGHTCOND',\n",
       "       'PEDROWNOTGRNT', 'SDOTCOLNUM', 'SPEEDING', 'ST_COLCODE', 'ST_COLDESC',\n",
       "       'SEGLANEKEY', 'CROSSWALKKEY', 'HITPARKEDCAR'],\n",
       "      dtype='object')"
      ]
     },
     "execution_count": 5,
     "metadata": {},
     "output_type": "execute_result"
    }
   ],
   "source": [
    "data_df.columns"
   ]
  },
  {
   "cell_type": "code",
   "execution_count": 6,
   "metadata": {},
   "outputs": [
    {
     "data": {
      "text/plain": [
       "1    136485\n",
       "2     58188\n",
       "Name: SEVERITYCODE, dtype: int64"
      ]
     },
     "execution_count": 6,
     "metadata": {},
     "output_type": "execute_result"
    }
   ],
   "source": [
    "data_df['SEVERITYCODE'].value_counts()"
   ]
  },
  {
   "cell_type": "code",
   "execution_count": 7,
   "metadata": {},
   "outputs": [],
   "source": [
    "data_temp_df=data_df[['SEVERITYCODE','X','Y','OBJECTID','INCKEY','COLDETKEY','REPORTNO','STATUS','ADDRTYPE',\n",
    "               'LOCATION','SEVERITYCODE.1','SEVERITYDESC','COLLISIONTYPE','PERSONCOUNT','PEDCOUNT',\n",
    "               'PEDCYLCOUNT','VEHCOUNT','INCDATE','INCDTTM','JUNCTIONTYPE','SDOT_COLCODE','SDOT_COLDESC',\n",
    "               'UNDERINFL','WEATHER','ROADCOND','LIGHTCOND','ST_COLCODE','ST_COLDESC', 'SEGLANEKEY',\n",
    "               'CROSSWALKKEY','HITPARKEDCAR']]"
   ]
  },
  {
   "cell_type": "code",
   "execution_count": 8,
   "metadata": {},
   "outputs": [
    {
     "data": {
      "text/plain": [
       "SEVERITYCODE         0\n",
       "X                 5334\n",
       "Y                 5334\n",
       "OBJECTID             0\n",
       "INCKEY               0\n",
       "COLDETKEY            0\n",
       "REPORTNO             0\n",
       "STATUS               0\n",
       "ADDRTYPE          1926\n",
       "LOCATION          2677\n",
       "SEVERITYCODE.1       0\n",
       "SEVERITYDESC         0\n",
       "COLLISIONTYPE     4904\n",
       "PERSONCOUNT          0\n",
       "PEDCOUNT             0\n",
       "PEDCYLCOUNT          0\n",
       "VEHCOUNT             0\n",
       "INCDATE              0\n",
       "INCDTTM              0\n",
       "JUNCTIONTYPE      6329\n",
       "SDOT_COLCODE         0\n",
       "SDOT_COLDESC         0\n",
       "UNDERINFL         4884\n",
       "WEATHER           5081\n",
       "ROADCOND          5012\n",
       "LIGHTCOND         5170\n",
       "ST_COLCODE          18\n",
       "ST_COLDESC        4904\n",
       "SEGLANEKEY           0\n",
       "CROSSWALKKEY         0\n",
       "HITPARKEDCAR         0\n",
       "dtype: int64"
      ]
     },
     "execution_count": 8,
     "metadata": {},
     "output_type": "execute_result"
    }
   ],
   "source": [
    "data_temp_df.isna().sum()"
   ]
  },
  {
   "cell_type": "code",
   "execution_count": 9,
   "metadata": {},
   "outputs": [],
   "source": [
    "data_temp_df = data_temp_df.dropna()"
   ]
  },
  {
   "cell_type": "code",
   "execution_count": 10,
   "metadata": {},
   "outputs": [
    {
     "data": {
      "text/plain": [
       "(180067, 31)"
      ]
     },
     "execution_count": 10,
     "metadata": {},
     "output_type": "execute_result"
    }
   ],
   "source": [
    "data_temp_df.shape"
   ]
  },
  {
   "cell_type": "markdown",
   "metadata": {},
   "source": [
    "Address type include two values – Block (0) and Intersection (1). Variable about date and time of recorded collision (INCDTTM) are transformed into two additional variables ‘HOUR’ and ‘DAYOFWEEK’. Someone might find this strange, but there are there are no more accidents during the weekend, numbers but almost uniformly spread through the whole week. Additional information could be found with ‘HOUR’ variable since there are evidently more accidents during some hours (around midnight and rush hours) than the others (around 5-6 am), even though there are no distinctiveness between severity of an accident. So, added variable ‘HOUR’ is transformed into 3 groups as following: 1 – time (hours) of low risk of collision, 2 – time of moderate risk of collision, 3 – time of high risk of collision. We are looking at the rest of the potential features set and doing transformation when needed.\n"
   ]
  },
  {
   "cell_type": "code",
   "execution_count": 11,
   "metadata": {},
   "outputs": [
    {
     "data": {
      "text/plain": [
       "Block           117085\n",
       "Intersection     62982\n",
       "Name: ADDRTYPE, dtype: int64"
      ]
     },
     "execution_count": 11,
     "metadata": {},
     "output_type": "execute_result"
    }
   ],
   "source": [
    "data_temp_df['ADDRTYPE'].value_counts()"
   ]
  },
  {
   "cell_type": "code",
   "execution_count": 12,
   "metadata": {},
   "outputs": [
    {
     "data": {
      "text/plain": [
       "0    117085\n",
       "1     62982\n",
       "Name: ADDRTYPE, dtype: int64"
      ]
     },
     "execution_count": 12,
     "metadata": {},
     "output_type": "execute_result"
    }
   ],
   "source": [
    "data_temp_df['ADDRTYPE'].replace(to_replace=['Block','Intersection'], value=[0,1],inplace=True)\n",
    "data_temp_df['ADDRTYPE'].value_counts()"
   ]
  },
  {
   "cell_type": "markdown",
   "metadata": {},
   "source": [
    "<span style=\"color:Blue\">'ADDRTYPE':  0 - Block, 1 - Intersection. </span>   "
   ]
  },
  {
   "cell_type": "code",
   "execution_count": 127,
   "metadata": {},
   "outputs": [],
   "source": [
    "data_temp_df['INCDTTM'] = pd.to_datetime(data_temp_df['INCDTTM'])\n",
    "data_temp_df['hour'] = data_temp_df['INCDTTM'].dt.hour\n",
    "data_temp_df['dayofweek'] = data_temp_df['INCDTTM'].dt.dayofweek"
   ]
  },
  {
   "cell_type": "code",
   "execution_count": 128,
   "metadata": {},
   "outputs": [
    {
     "data": {
      "text/plain": [
       "0   2013-03-27 14:54:00\n",
       "1   2006-12-20 18:55:00\n",
       "2   2004-11-18 10:20:00\n",
       "3   2013-03-29 09:26:00\n",
       "4   2004-01-28 08:04:00\n",
       "Name: INCDTTM, dtype: datetime64[ns]"
      ]
     },
     "execution_count": 128,
     "metadata": {},
     "output_type": "execute_result"
    }
   ],
   "source": [
    "data_temp_df['INCDTTM'].head()"
   ]
  },
  {
   "cell_type": "code",
   "execution_count": 129,
   "metadata": {},
   "outputs": [
    {
     "data": {
      "text/plain": [
       "4    29860\n",
       "3    27075\n",
       "2    26578\n",
       "1    26353\n",
       "5    25555\n",
       "0    24212\n",
       "6    20434\n",
       "Name: dayofweek, dtype: int64"
      ]
     },
     "execution_count": 129,
     "metadata": {},
     "output_type": "execute_result"
    }
   ],
   "source": [
    "data_temp_df['dayofweek'].value_counts()"
   ]
  },
  {
   "cell_type": "code",
   "execution_count": 16,
   "metadata": {},
   "outputs": [
    {
     "data": {
      "image/png": "[encoded data removed]",
      "text/plain": [
       "<Figure size 432x216 with 2 Axes>"
      ]
     },
     "metadata": {
      "needs_background": "light"
     },
     "output_type": "display_data"
    }
   ],
   "source": [
    "bins = np.linspace(data_temp_df['dayofweek'].min(), data_temp_df['dayofweek'].max(), 8)\n",
    "g = sns.FacetGrid(data_temp_df, col='SEVERITYCODE', hue='dayofweek', palette=\"Set1\", sharex=True, sharey=True, col_wrap=2)\n",
    "g.map(plt.hist, 'dayofweek', bins=bins)\n",
    "plt.show()\n"
   ]
  },
  {
   "cell_type": "code",
   "execution_count": 130,
   "metadata": {},
   "outputs": [
    {
     "data": {
      "text/plain": [
       "0     28222\n",
       "17    12328\n",
       "16    11575\n",
       "15    10938\n",
       "14    10179\n",
       "13     9783\n",
       "12     9757\n",
       "18     9210\n",
       "8      8100\n",
       "11     7798\n",
       "9      7616\n",
       "10     7035\n",
       "19     6831\n",
       "7      6216\n",
       "20     5867\n",
       "21     5290\n",
       "22     5158\n",
       "23     4302\n",
       "2      3382\n",
       "1      3224\n",
       "6      3013\n",
       "5      1547\n",
       "3      1546\n",
       "4      1150\n",
       "Name: hour, dtype: int64"
      ]
     },
     "execution_count": 130,
     "metadata": {},
     "output_type": "execute_result"
    }
   ],
   "source": [
    "data_temp_df['hour'].value_counts()"
   ]
  },
  {
   "cell_type": "code",
   "execution_count": 124,
   "metadata": {},
   "outputs": [
    {
     "data": {
      "image/png": "[encoded data removed]",
      "text/plain": [
       "<Figure size 864x216 with 2 Axes>"
      ]
     },
     "metadata": {
      "needs_background": "light"
     },
     "output_type": "display_data"
    }
   ],
   "source": [
    "bins = np.linspace(data_temp_df['hour'].min(), data_temp_df['hour'].max(), 25)\n",
    "g = sns.FacetGrid(data_temp_df, col='SEVERITYCODE', hue='hour', palette=\"Set1\", sharex=True, sharey=True, col_wrap=4)\n",
    "g.map(plt.hist, 'hour', bins=bins)\n",
    "plt.show()\n"
   ]
  },
  {
   "cell_type": "code",
   "execution_count": 131,
   "metadata": {},
   "outputs": [],
   "source": [
    "data_temp_df['hour'] = data_temp_df['hour'].replace([0,12,13,14,15,16,17,18,7,8,9,10,11,19,20,21,22,23,1,2,3,4,5,6],[3,3,3,3,3,2,2,2,2,2,2,2,2,2,1,1,1,1,1,1,1,1,1,1])"
   ]
  },
  {
   "cell_type": "code",
   "execution_count": 132,
   "metadata": {},
   "outputs": [
    {
     "data": {
      "text/plain": [
       "2    76709\n",
       "3    68879\n",
       "1    34479\n",
       "Name: hour, dtype: int64"
      ]
     },
     "execution_count": 132,
     "metadata": {},
     "output_type": "execute_result"
    }
   ],
   "source": [
    "data_temp_df['hour'].value_counts()"
   ]
  },
  {
   "cell_type": "markdown",
   "metadata": {},
   "source": [
    "<span style=\"color:Blue\">'hour':  1 - Low risk, 2 - Moderate risk, 3 - High risk. </span>  "
   ]
  },
  {
   "cell_type": "code",
   "execution_count": 21,
   "metadata": {},
   "outputs": [
    {
     "data": {
      "text/plain": [
       "Mid-Block (not related to intersection)              84513\n",
       "At Intersection (intersection related)               60915\n",
       "Mid-Block (but intersection related)                 22035\n",
       "Driveway Junction                                    10430\n",
       "At Intersection (but not related to intersection)     2030\n",
       "Ramp Junction                                          139\n",
       "Unknown                                                  5\n",
       "Name: JUNCTIONTYPE, dtype: int64"
      ]
     },
     "execution_count": 21,
     "metadata": {},
     "output_type": "execute_result"
    }
   ],
   "source": [
    "data_temp_df['JUNCTIONTYPE'].value_counts()"
   ]
  },
  {
   "cell_type": "code",
   "execution_count": 22,
   "metadata": {},
   "outputs": [
    {
     "data": {
      "text/plain": [
       "6    84513\n",
       "5    60915\n",
       "4    22035\n",
       "3    10430\n",
       "2     2030\n",
       "1      144\n",
       "Name: JUNCTIONTYPE, dtype: int64"
      ]
     },
     "execution_count": 22,
     "metadata": {},
     "output_type": "execute_result"
    }
   ],
   "source": [
    "data_temp_df['JUNCTIONTYPE'].replace(to_replace=['Unknown','Ramp Junction','At Intersection (but not related to intersection)','Driveway Junction','Mid-Block (but intersection related)','At Intersection (intersection related)','Mid-Block (not related to intersection)'], value=[1,1,2,3,4,5,6],inplace=True)\n",
    "data_temp_df['JUNCTIONTYPE'].value_counts()"
   ]
  },
  {
   "cell_type": "code",
   "execution_count": 23,
   "metadata": {},
   "outputs": [
    {
     "data": {
      "text/plain": [
       "N    93736\n",
       "0    77514\n",
       "Y     4939\n",
       "1     3878\n",
       "Name: UNDERINFL, dtype: int64"
      ]
     },
     "execution_count": 23,
     "metadata": {},
     "output_type": "execute_result"
    }
   ],
   "source": [
    "data_temp_df['UNDERINFL'].value_counts()"
   ]
  },
  {
   "cell_type": "code",
   "execution_count": 24,
   "metadata": {},
   "outputs": [
    {
     "data": {
      "text/plain": [
       "0    93736\n",
       "0    77514\n",
       "1     4939\n",
       "1     3878\n",
       "Name: UNDERINFL, dtype: int64"
      ]
     },
     "execution_count": 24,
     "metadata": {},
     "output_type": "execute_result"
    }
   ],
   "source": [
    "data_temp_df['UNDERINFL'].replace(to_replace=['N','Y',0,1], value=[0,1,0,1],inplace=True)\n",
    "data_temp_df['UNDERINFL'].value_counts()"
   ]
  },
  {
   "cell_type": "code",
   "execution_count": 25,
   "metadata": {},
   "outputs": [
    {
     "data": {
      "text/plain": [
       "0    171250\n",
       "1      8817\n",
       "Name: UNDERINFL, dtype: int64"
      ]
     },
     "execution_count": 25,
     "metadata": {},
     "output_type": "execute_result"
    }
   ],
   "source": [
    "data_temp_df['UNDERINFL'] = pd.to_numeric(data_temp_df['UNDERINFL'])\n",
    "data_temp_df['UNDERINFL'].value_counts()"
   ]
  },
  {
   "cell_type": "code",
   "execution_count": 26,
   "metadata": {},
   "outputs": [
    {
     "data": {
      "text/plain": [
       "Clear                       107692\n",
       "Raining                      31719\n",
       "Overcast                     26809\n",
       "Unknown                      11505\n",
       "Snowing                        875\n",
       "Other                          728\n",
       "Fog/Smog/Smoke                 549\n",
       "Sleet/Hail/Freezing Rain       112\n",
       "Blowing Sand/Dirt               49\n",
       "Severe Crosswind                24\n",
       "Partly Cloudy                    5\n",
       "Name: WEATHER, dtype: int64"
      ]
     },
     "execution_count": 26,
     "metadata": {},
     "output_type": "execute_result"
    }
   ],
   "source": [
    "data_temp_df['WEATHER'].value_counts()"
   ]
  },
  {
   "cell_type": "code",
   "execution_count": 27,
   "metadata": {},
   "outputs": [
    {
     "data": {
      "text/plain": [
       "0    107692\n",
       "5     31719\n",
       "3     26809\n",
       "1     12233\n",
       "6       875\n",
       "8       549\n",
       "9       112\n",
       "7        49\n",
       "4        24\n",
       "2         5\n",
       "Name: WEATHER, dtype: int64"
      ]
     },
     "execution_count": 27,
     "metadata": {},
     "output_type": "execute_result"
    }
   ],
   "source": [
    "data_temp_df['WEATHER'].replace(to_replace=['Clear','Unknown','Other','Partly Cloudy','Overcast','Severe Crosswind','Raining','Snowing','Blowing Sand/Dirt','Fog/Smog/Smoke','Sleet/Hail/Freezing Rain'], value=[0,1,1,2,3,4,5,6,7,8,9],inplace=True)\n",
    "data_temp_df['WEATHER'].value_counts()"
   ]
  },
  {
   "cell_type": "code",
   "execution_count": 28,
   "metadata": {},
   "outputs": [
    {
     "data": {
      "text/plain": [
       "Dry               120629\n",
       "Wet                45597\n",
       "Unknown            11384\n",
       "Ice                 1161\n",
       "Snow/Slush           971\n",
       "Other                115\n",
       "Standing Water        99\n",
       "Sand/Mud/Dirt         62\n",
       "Oil                   49\n",
       "Name: ROADCOND, dtype: int64"
      ]
     },
     "execution_count": 28,
     "metadata": {},
     "output_type": "execute_result"
    }
   ],
   "source": [
    "data_temp_df['ROADCOND'].value_counts()"
   ]
  },
  {
   "cell_type": "code",
   "execution_count": 29,
   "metadata": {},
   "outputs": [
    {
     "data": {
      "text/plain": [
       "0    120629\n",
       "5     45597\n",
       "1     11499\n",
       "7      1161\n",
       "4       971\n",
       "3        99\n",
       "2        62\n",
       "6        49\n",
       "Name: ROADCOND, dtype: int64"
      ]
     },
     "execution_count": 29,
     "metadata": {},
     "output_type": "execute_result"
    }
   ],
   "source": [
    "data_temp_df['ROADCOND'].replace(to_replace=['Dry','Unknown','Other','Sand/Mud/Dirt','Standing Water','Snow/Slush','Wet','Oil','Ice'], value=[0,1,1,2,3,4,5,6,7],inplace=True)\n",
    "data_temp_df['ROADCOND'].value_counts()"
   ]
  },
  {
   "cell_type": "code",
   "execution_count": 30,
   "metadata": {},
   "outputs": [
    {
     "data": {
      "text/plain": [
       "Daylight                    112216\n",
       "Dark - Street Lights On      46683\n",
       "Unknown                      10340\n",
       "Dusk                          5708\n",
       "Dawn                          2389\n",
       "Dark - No Street Lights       1418\n",
       "Dark - Street Lights Off      1130\n",
       "Other                          172\n",
       "Dark - Unknown Lighting         11\n",
       "Name: LIGHTCOND, dtype: int64"
      ]
     },
     "execution_count": 30,
     "metadata": {},
     "output_type": "execute_result"
    }
   ],
   "source": [
    "data_temp_df['LIGHTCOND'].value_counts()"
   ]
  },
  {
   "cell_type": "code",
   "execution_count": 31,
   "metadata": {},
   "outputs": [
    {
     "data": {
      "text/plain": [
       "0    112216\n",
       "4     46683\n",
       "1     10512\n",
       "3      5708\n",
       "6      2548\n",
       "2      2389\n",
       "5        11\n",
       "Name: LIGHTCOND, dtype: int64"
      ]
     },
     "execution_count": 31,
     "metadata": {},
     "output_type": "execute_result"
    }
   ],
   "source": [
    "data_temp_df['LIGHTCOND'].replace(to_replace=['Daylight','Unknown','Other','Dawn','Dusk','Dark - Street Lights On','Dark - Unknown Lighting','Dark - Street Lights Off','Dark - No Street Lights'], value=[0,1,1,2,3,4,5,6,6],inplace=True)\n",
    "data_temp_df['LIGHTCOND'].value_counts()"
   ]
  },
  {
   "cell_type": "markdown",
   "metadata": {},
   "source": [
    "Variables 'ADDRTYPE' and 'JUNCTIONTYPE'  both represent category of junction at which collision took place, so there is no reason to use both variables in features set. Since 'JUNCTIONTYPE' represents more complex division, this variable could add more information to the model."
   ]
  },
  {
   "cell_type": "markdown",
   "metadata": {},
   "source": [
    "Let's see our features set X"
   ]
  },
  {
   "cell_type": "code",
   "execution_count": 133,
   "metadata": {},
   "outputs": [],
   "source": [
    "X = data_temp_df[['hour','UNDERINFL','JUNCTIONTYPE','WEATHER','ROADCOND','LIGHTCOND']]"
   ]
  },
  {
   "cell_type": "code",
   "execution_count": 134,
   "metadata": {},
   "outputs": [
    {
     "data": {
      "text/plain": [
       "hour            int64\n",
       "UNDERINFL       int64\n",
       "JUNCTIONTYPE    int64\n",
       "WEATHER         int64\n",
       "ROADCOND        int64\n",
       "LIGHTCOND       int64\n",
       "dtype: object"
      ]
     },
     "execution_count": 134,
     "metadata": {},
     "output_type": "execute_result"
    }
   ],
   "source": [
    "X.dtypes"
   ]
  },
  {
   "cell_type": "code",
   "execution_count": 135,
   "metadata": {},
   "outputs": [],
   "source": [
    "des = pd.read_excel (r'featuresX.xlsx', header=1)"
   ]
  },
  {
   "cell_type": "code",
   "execution_count": 136,
   "metadata": {},
   "outputs": [],
   "source": [
    "des = des.replace(np.nan, '', regex=True)"
   ]
  },
  {
   "cell_type": "code",
   "execution_count": 137,
   "metadata": {},
   "outputs": [
    {
     "data": {
      "text/html": [
       "<style  type=\"text/css\" >\n",
       "</style><table id=\"T_5f5d42a8_f2a1_11ea_93fa_0e9fd484a86b\" ><thead>    <tr>        <th class=\"col_heading level0 col0\" >FEATURE</th>        <th class=\"col_heading level0 col1\" >VALUE</th>        <th class=\"col_heading level0 col2\" >DESCRIPTION</th>    </tr></thead><tbody>\n",
       "                <tr>\n",
       "                                <td id=\"T_5f5d42a8_f2a1_11ea_93fa_0e9fd484a86brow0_col0\" class=\"data row0 col0\" >hour</td>\n",
       "                        <td id=\"T_5f5d42a8_f2a1_11ea_93fa_0e9fd484a86brow0_col1\" class=\"data row0 col1\" >1</td>\n",
       "                        <td id=\"T_5f5d42a8_f2a1_11ea_93fa_0e9fd484a86brow0_col2\" class=\"data row0 col2\" >Time/Hour of Low Risk of Collision</td>\n",
       "            </tr>\n",
       "            <tr>\n",
       "                                <td id=\"T_5f5d42a8_f2a1_11ea_93fa_0e9fd484a86brow1_col0\" class=\"data row1 col0\" ></td>\n",
       "                        <td id=\"T_5f5d42a8_f2a1_11ea_93fa_0e9fd484a86brow1_col1\" class=\"data row1 col1\" >2</td>\n",
       "                        <td id=\"T_5f5d42a8_f2a1_11ea_93fa_0e9fd484a86brow1_col2\" class=\"data row1 col2\" >Time/Hour of Moderate Risk of Collision</td>\n",
       "            </tr>\n",
       "            <tr>\n",
       "                                <td id=\"T_5f5d42a8_f2a1_11ea_93fa_0e9fd484a86brow2_col0\" class=\"data row2 col0\" ></td>\n",
       "                        <td id=\"T_5f5d42a8_f2a1_11ea_93fa_0e9fd484a86brow2_col1\" class=\"data row2 col1\" >3</td>\n",
       "                        <td id=\"T_5f5d42a8_f2a1_11ea_93fa_0e9fd484a86brow2_col2\" class=\"data row2 col2\" >Time/Hour of High Risk of Collision</td>\n",
       "            </tr>\n",
       "            <tr>\n",
       "                                <td id=\"T_5f5d42a8_f2a1_11ea_93fa_0e9fd484a86brow3_col0\" class=\"data row3 col0\" >JUNCTIONTYPE</td>\n",
       "                        <td id=\"T_5f5d42a8_f2a1_11ea_93fa_0e9fd484a86brow3_col1\" class=\"data row3 col1\" >1</td>\n",
       "                        <td id=\"T_5f5d42a8_f2a1_11ea_93fa_0e9fd484a86brow3_col2\" class=\"data row3 col2\" >Ramp junction or unknown</td>\n",
       "            </tr>\n",
       "            <tr>\n",
       "                                <td id=\"T_5f5d42a8_f2a1_11ea_93fa_0e9fd484a86brow4_col0\" class=\"data row4 col0\" ></td>\n",
       "                        <td id=\"T_5f5d42a8_f2a1_11ea_93fa_0e9fd484a86brow4_col1\" class=\"data row4 col1\" >2</td>\n",
       "                        <td id=\"T_5f5d42a8_f2a1_11ea_93fa_0e9fd484a86brow4_col2\" class=\"data row4 col2\" >At Intersection (but not related to intersection)</td>\n",
       "            </tr>\n",
       "            <tr>\n",
       "                                <td id=\"T_5f5d42a8_f2a1_11ea_93fa_0e9fd484a86brow5_col0\" class=\"data row5 col0\" ></td>\n",
       "                        <td id=\"T_5f5d42a8_f2a1_11ea_93fa_0e9fd484a86brow5_col1\" class=\"data row5 col1\" >3</td>\n",
       "                        <td id=\"T_5f5d42a8_f2a1_11ea_93fa_0e9fd484a86brow5_col2\" class=\"data row5 col2\" >Driveway Junction</td>\n",
       "            </tr>\n",
       "            <tr>\n",
       "                                <td id=\"T_5f5d42a8_f2a1_11ea_93fa_0e9fd484a86brow6_col0\" class=\"data row6 col0\" ></td>\n",
       "                        <td id=\"T_5f5d42a8_f2a1_11ea_93fa_0e9fd484a86brow6_col1\" class=\"data row6 col1\" >4</td>\n",
       "                        <td id=\"T_5f5d42a8_f2a1_11ea_93fa_0e9fd484a86brow6_col2\" class=\"data row6 col2\" >Mid-Block (but intersection related)</td>\n",
       "            </tr>\n",
       "            <tr>\n",
       "                                <td id=\"T_5f5d42a8_f2a1_11ea_93fa_0e9fd484a86brow7_col0\" class=\"data row7 col0\" ></td>\n",
       "                        <td id=\"T_5f5d42a8_f2a1_11ea_93fa_0e9fd484a86brow7_col1\" class=\"data row7 col1\" >5</td>\n",
       "                        <td id=\"T_5f5d42a8_f2a1_11ea_93fa_0e9fd484a86brow7_col2\" class=\"data row7 col2\" >At Intersection (intersection related)</td>\n",
       "            </tr>\n",
       "            <tr>\n",
       "                                <td id=\"T_5f5d42a8_f2a1_11ea_93fa_0e9fd484a86brow8_col0\" class=\"data row8 col0\" ></td>\n",
       "                        <td id=\"T_5f5d42a8_f2a1_11ea_93fa_0e9fd484a86brow8_col1\" class=\"data row8 col1\" >6</td>\n",
       "                        <td id=\"T_5f5d42a8_f2a1_11ea_93fa_0e9fd484a86brow8_col2\" class=\"data row8 col2\" >Mid-Block (not related to intersection)</td>\n",
       "            </tr>\n",
       "            <tr>\n",
       "                                <td id=\"T_5f5d42a8_f2a1_11ea_93fa_0e9fd484a86brow9_col0\" class=\"data row9 col0\" >UNDERINFL</td>\n",
       "                        <td id=\"T_5f5d42a8_f2a1_11ea_93fa_0e9fd484a86brow9_col1\" class=\"data row9 col1\" >0</td>\n",
       "                        <td id=\"T_5f5d42a8_f2a1_11ea_93fa_0e9fd484a86brow9_col2\" class=\"data row9 col2\" >Involved Driver Not Under Influence of Drugs or Alcohol.</td>\n",
       "            </tr>\n",
       "            <tr>\n",
       "                                <td id=\"T_5f5d42a8_f2a1_11ea_93fa_0e9fd484a86brow10_col0\" class=\"data row10 col0\" ></td>\n",
       "                        <td id=\"T_5f5d42a8_f2a1_11ea_93fa_0e9fd484a86brow10_col1\" class=\"data row10 col1\" >1</td>\n",
       "                        <td id=\"T_5f5d42a8_f2a1_11ea_93fa_0e9fd484a86brow10_col2\" class=\"data row10 col2\" >Involved Driver Under Influence of Drugs or Alcohol.</td>\n",
       "            </tr>\n",
       "            <tr>\n",
       "                                <td id=\"T_5f5d42a8_f2a1_11ea_93fa_0e9fd484a86brow11_col0\" class=\"data row11 col0\" >WEATHER</td>\n",
       "                        <td id=\"T_5f5d42a8_f2a1_11ea_93fa_0e9fd484a86brow11_col1\" class=\"data row11 col1\" >0</td>\n",
       "                        <td id=\"T_5f5d42a8_f2a1_11ea_93fa_0e9fd484a86brow11_col2\" class=\"data row11 col2\" >Clear</td>\n",
       "            </tr>\n",
       "            <tr>\n",
       "                                <td id=\"T_5f5d42a8_f2a1_11ea_93fa_0e9fd484a86brow12_col0\" class=\"data row12 col0\" ></td>\n",
       "                        <td id=\"T_5f5d42a8_f2a1_11ea_93fa_0e9fd484a86brow12_col1\" class=\"data row12 col1\" >1</td>\n",
       "                        <td id=\"T_5f5d42a8_f2a1_11ea_93fa_0e9fd484a86brow12_col2\" class=\"data row12 col2\" >Unknown or Other</td>\n",
       "            </tr>\n",
       "            <tr>\n",
       "                                <td id=\"T_5f5d42a8_f2a1_11ea_93fa_0e9fd484a86brow13_col0\" class=\"data row13 col0\" ></td>\n",
       "                        <td id=\"T_5f5d42a8_f2a1_11ea_93fa_0e9fd484a86brow13_col1\" class=\"data row13 col1\" >2</td>\n",
       "                        <td id=\"T_5f5d42a8_f2a1_11ea_93fa_0e9fd484a86brow13_col2\" class=\"data row13 col2\" >Partly Cloudy</td>\n",
       "            </tr>\n",
       "            <tr>\n",
       "                                <td id=\"T_5f5d42a8_f2a1_11ea_93fa_0e9fd484a86brow14_col0\" class=\"data row14 col0\" ></td>\n",
       "                        <td id=\"T_5f5d42a8_f2a1_11ea_93fa_0e9fd484a86brow14_col1\" class=\"data row14 col1\" >3</td>\n",
       "                        <td id=\"T_5f5d42a8_f2a1_11ea_93fa_0e9fd484a86brow14_col2\" class=\"data row14 col2\" >Overcast</td>\n",
       "            </tr>\n",
       "            <tr>\n",
       "                                <td id=\"T_5f5d42a8_f2a1_11ea_93fa_0e9fd484a86brow15_col0\" class=\"data row15 col0\" ></td>\n",
       "                        <td id=\"T_5f5d42a8_f2a1_11ea_93fa_0e9fd484a86brow15_col1\" class=\"data row15 col1\" >4</td>\n",
       "                        <td id=\"T_5f5d42a8_f2a1_11ea_93fa_0e9fd484a86brow15_col2\" class=\"data row15 col2\" >Severe Crosswind</td>\n",
       "            </tr>\n",
       "            <tr>\n",
       "                                <td id=\"T_5f5d42a8_f2a1_11ea_93fa_0e9fd484a86brow16_col0\" class=\"data row16 col0\" ></td>\n",
       "                        <td id=\"T_5f5d42a8_f2a1_11ea_93fa_0e9fd484a86brow16_col1\" class=\"data row16 col1\" >5</td>\n",
       "                        <td id=\"T_5f5d42a8_f2a1_11ea_93fa_0e9fd484a86brow16_col2\" class=\"data row16 col2\" >Raining</td>\n",
       "            </tr>\n",
       "            <tr>\n",
       "                                <td id=\"T_5f5d42a8_f2a1_11ea_93fa_0e9fd484a86brow17_col0\" class=\"data row17 col0\" ></td>\n",
       "                        <td id=\"T_5f5d42a8_f2a1_11ea_93fa_0e9fd484a86brow17_col1\" class=\"data row17 col1\" >6</td>\n",
       "                        <td id=\"T_5f5d42a8_f2a1_11ea_93fa_0e9fd484a86brow17_col2\" class=\"data row17 col2\" >Snowing</td>\n",
       "            </tr>\n",
       "            <tr>\n",
       "                                <td id=\"T_5f5d42a8_f2a1_11ea_93fa_0e9fd484a86brow18_col0\" class=\"data row18 col0\" ></td>\n",
       "                        <td id=\"T_5f5d42a8_f2a1_11ea_93fa_0e9fd484a86brow18_col1\" class=\"data row18 col1\" >7</td>\n",
       "                        <td id=\"T_5f5d42a8_f2a1_11ea_93fa_0e9fd484a86brow18_col2\" class=\"data row18 col2\" >Blowing Sand/Dirt</td>\n",
       "            </tr>\n",
       "            <tr>\n",
       "                                <td id=\"T_5f5d42a8_f2a1_11ea_93fa_0e9fd484a86brow19_col0\" class=\"data row19 col0\" ></td>\n",
       "                        <td id=\"T_5f5d42a8_f2a1_11ea_93fa_0e9fd484a86brow19_col1\" class=\"data row19 col1\" >8</td>\n",
       "                        <td id=\"T_5f5d42a8_f2a1_11ea_93fa_0e9fd484a86brow19_col2\" class=\"data row19 col2\" >Fog/Smog/Smoke</td>\n",
       "            </tr>\n",
       "            <tr>\n",
       "                                <td id=\"T_5f5d42a8_f2a1_11ea_93fa_0e9fd484a86brow20_col0\" class=\"data row20 col0\" ></td>\n",
       "                        <td id=\"T_5f5d42a8_f2a1_11ea_93fa_0e9fd484a86brow20_col1\" class=\"data row20 col1\" >9</td>\n",
       "                        <td id=\"T_5f5d42a8_f2a1_11ea_93fa_0e9fd484a86brow20_col2\" class=\"data row20 col2\" >Sleet/Hail/Freezing Rain </td>\n",
       "            </tr>\n",
       "            <tr>\n",
       "                                <td id=\"T_5f5d42a8_f2a1_11ea_93fa_0e9fd484a86brow21_col0\" class=\"data row21 col0\" >ROADCOND</td>\n",
       "                        <td id=\"T_5f5d42a8_f2a1_11ea_93fa_0e9fd484a86brow21_col1\" class=\"data row21 col1\" >0</td>\n",
       "                        <td id=\"T_5f5d42a8_f2a1_11ea_93fa_0e9fd484a86brow21_col2\" class=\"data row21 col2\" >Dry</td>\n",
       "            </tr>\n",
       "            <tr>\n",
       "                                <td id=\"T_5f5d42a8_f2a1_11ea_93fa_0e9fd484a86brow22_col0\" class=\"data row22 col0\" ></td>\n",
       "                        <td id=\"T_5f5d42a8_f2a1_11ea_93fa_0e9fd484a86brow22_col1\" class=\"data row22 col1\" >1</td>\n",
       "                        <td id=\"T_5f5d42a8_f2a1_11ea_93fa_0e9fd484a86brow22_col2\" class=\"data row22 col2\" >Unknown or Other</td>\n",
       "            </tr>\n",
       "            <tr>\n",
       "                                <td id=\"T_5f5d42a8_f2a1_11ea_93fa_0e9fd484a86brow23_col0\" class=\"data row23 col0\" ></td>\n",
       "                        <td id=\"T_5f5d42a8_f2a1_11ea_93fa_0e9fd484a86brow23_col1\" class=\"data row23 col1\" >2</td>\n",
       "                        <td id=\"T_5f5d42a8_f2a1_11ea_93fa_0e9fd484a86brow23_col2\" class=\"data row23 col2\" >Sand/Mud/Dirt</td>\n",
       "            </tr>\n",
       "            <tr>\n",
       "                                <td id=\"T_5f5d42a8_f2a1_11ea_93fa_0e9fd484a86brow24_col0\" class=\"data row24 col0\" ></td>\n",
       "                        <td id=\"T_5f5d42a8_f2a1_11ea_93fa_0e9fd484a86brow24_col1\" class=\"data row24 col1\" >3</td>\n",
       "                        <td id=\"T_5f5d42a8_f2a1_11ea_93fa_0e9fd484a86brow24_col2\" class=\"data row24 col2\" >Standing Water</td>\n",
       "            </tr>\n",
       "            <tr>\n",
       "                                <td id=\"T_5f5d42a8_f2a1_11ea_93fa_0e9fd484a86brow25_col0\" class=\"data row25 col0\" ></td>\n",
       "                        <td id=\"T_5f5d42a8_f2a1_11ea_93fa_0e9fd484a86brow25_col1\" class=\"data row25 col1\" >4</td>\n",
       "                        <td id=\"T_5f5d42a8_f2a1_11ea_93fa_0e9fd484a86brow25_col2\" class=\"data row25 col2\" >Snow/Slush</td>\n",
       "            </tr>\n",
       "            <tr>\n",
       "                                <td id=\"T_5f5d42a8_f2a1_11ea_93fa_0e9fd484a86brow26_col0\" class=\"data row26 col0\" ></td>\n",
       "                        <td id=\"T_5f5d42a8_f2a1_11ea_93fa_0e9fd484a86brow26_col1\" class=\"data row26 col1\" >5</td>\n",
       "                        <td id=\"T_5f5d42a8_f2a1_11ea_93fa_0e9fd484a86brow26_col2\" class=\"data row26 col2\" >Wet</td>\n",
       "            </tr>\n",
       "            <tr>\n",
       "                                <td id=\"T_5f5d42a8_f2a1_11ea_93fa_0e9fd484a86brow27_col0\" class=\"data row27 col0\" ></td>\n",
       "                        <td id=\"T_5f5d42a8_f2a1_11ea_93fa_0e9fd484a86brow27_col1\" class=\"data row27 col1\" >6</td>\n",
       "                        <td id=\"T_5f5d42a8_f2a1_11ea_93fa_0e9fd484a86brow27_col2\" class=\"data row27 col2\" >Oil</td>\n",
       "            </tr>\n",
       "            <tr>\n",
       "                                <td id=\"T_5f5d42a8_f2a1_11ea_93fa_0e9fd484a86brow28_col0\" class=\"data row28 col0\" ></td>\n",
       "                        <td id=\"T_5f5d42a8_f2a1_11ea_93fa_0e9fd484a86brow28_col1\" class=\"data row28 col1\" >7</td>\n",
       "                        <td id=\"T_5f5d42a8_f2a1_11ea_93fa_0e9fd484a86brow28_col2\" class=\"data row28 col2\" >Ice</td>\n",
       "            </tr>\n",
       "            <tr>\n",
       "                                <td id=\"T_5f5d42a8_f2a1_11ea_93fa_0e9fd484a86brow29_col0\" class=\"data row29 col0\" >LIGHTCOND</td>\n",
       "                        <td id=\"T_5f5d42a8_f2a1_11ea_93fa_0e9fd484a86brow29_col1\" class=\"data row29 col1\" >0</td>\n",
       "                        <td id=\"T_5f5d42a8_f2a1_11ea_93fa_0e9fd484a86brow29_col2\" class=\"data row29 col2\" >Daylight</td>\n",
       "            </tr>\n",
       "            <tr>\n",
       "                                <td id=\"T_5f5d42a8_f2a1_11ea_93fa_0e9fd484a86brow30_col0\" class=\"data row30 col0\" ></td>\n",
       "                        <td id=\"T_5f5d42a8_f2a1_11ea_93fa_0e9fd484a86brow30_col1\" class=\"data row30 col1\" >1</td>\n",
       "                        <td id=\"T_5f5d42a8_f2a1_11ea_93fa_0e9fd484a86brow30_col2\" class=\"data row30 col2\" >Unknown or Other</td>\n",
       "            </tr>\n",
       "            <tr>\n",
       "                                <td id=\"T_5f5d42a8_f2a1_11ea_93fa_0e9fd484a86brow31_col0\" class=\"data row31 col0\" ></td>\n",
       "                        <td id=\"T_5f5d42a8_f2a1_11ea_93fa_0e9fd484a86brow31_col1\" class=\"data row31 col1\" >2</td>\n",
       "                        <td id=\"T_5f5d42a8_f2a1_11ea_93fa_0e9fd484a86brow31_col2\" class=\"data row31 col2\" >Dawn</td>\n",
       "            </tr>\n",
       "            <tr>\n",
       "                                <td id=\"T_5f5d42a8_f2a1_11ea_93fa_0e9fd484a86brow32_col0\" class=\"data row32 col0\" ></td>\n",
       "                        <td id=\"T_5f5d42a8_f2a1_11ea_93fa_0e9fd484a86brow32_col1\" class=\"data row32 col1\" >3</td>\n",
       "                        <td id=\"T_5f5d42a8_f2a1_11ea_93fa_0e9fd484a86brow32_col2\" class=\"data row32 col2\" >Dusk</td>\n",
       "            </tr>\n",
       "            <tr>\n",
       "                                <td id=\"T_5f5d42a8_f2a1_11ea_93fa_0e9fd484a86brow33_col0\" class=\"data row33 col0\" ></td>\n",
       "                        <td id=\"T_5f5d42a8_f2a1_11ea_93fa_0e9fd484a86brow33_col1\" class=\"data row33 col1\" >4</td>\n",
       "                        <td id=\"T_5f5d42a8_f2a1_11ea_93fa_0e9fd484a86brow33_col2\" class=\"data row33 col2\" >Dark - Street Lights On</td>\n",
       "            </tr>\n",
       "            <tr>\n",
       "                                <td id=\"T_5f5d42a8_f2a1_11ea_93fa_0e9fd484a86brow34_col0\" class=\"data row34 col0\" ></td>\n",
       "                        <td id=\"T_5f5d42a8_f2a1_11ea_93fa_0e9fd484a86brow34_col1\" class=\"data row34 col1\" >5</td>\n",
       "                        <td id=\"T_5f5d42a8_f2a1_11ea_93fa_0e9fd484a86brow34_col2\" class=\"data row34 col2\" >Dark - Unknown Lighting</td>\n",
       "            </tr>\n",
       "            <tr>\n",
       "                                <td id=\"T_5f5d42a8_f2a1_11ea_93fa_0e9fd484a86brow35_col0\" class=\"data row35 col0\" ></td>\n",
       "                        <td id=\"T_5f5d42a8_f2a1_11ea_93fa_0e9fd484a86brow35_col1\" class=\"data row35 col1\" >6</td>\n",
       "                        <td id=\"T_5f5d42a8_f2a1_11ea_93fa_0e9fd484a86brow35_col2\" class=\"data row35 col2\" >Dark - Street Lights Off or No Street Lights</td>\n",
       "            </tr>\n",
       "    </tbody></table>"
      ],
      "text/plain": [
       "<pandas.io.formats.style.Styler at 0x7fcca5606390>"
      ]
     },
     "execution_count": 137,
     "metadata": {},
     "output_type": "execute_result"
    }
   ],
   "source": [
    "des.style.hide_index()"
   ]
  },
  {
   "cell_type": "code",
   "execution_count": 138,
   "metadata": {},
   "outputs": [
    {
     "name": "stderr",
     "output_type": "stream",
     "text": [
      "/home/jupyterlab/conda/envs/python/lib/python3.6/site-packages/sklearn/preprocessing/data.py:625: DataConversionWarning: Data with input dtype int64 were all converted to float64 by StandardScaler.\n",
      "  return self.partial_fit(X, y)\n"
     ]
    },
    {
     "data": {
      "text/plain": [
       "array([[ 1.1 , -0.23, -0.2 ,  0.76,  1.63, -0.71],\n",
       "       [-0.26, -0.23,  0.85,  1.74,  1.63,  1.47],\n",
       "       [-0.26, -0.23,  0.85,  0.76, -0.64, -0.71],\n",
       "       [-0.26, -0.23,  0.85, -0.72, -0.64, -0.71],\n",
       "       [-0.26, -0.23, -0.2 ,  1.74,  1.63, -0.71]])"
      ]
     },
     "execution_count": 138,
     "metadata": {},
     "output_type": "execute_result"
    }
   ],
   "source": [
    "X = preprocessing.StandardScaler().fit(X).transform(X.astype(float))\n",
    "X[0:5]"
   ]
  },
  {
   "cell_type": "code",
   "execution_count": 139,
   "metadata": {},
   "outputs": [
    {
     "data": {
      "text/plain": [
       "1    124258\n",
       "2     55809\n",
       "Name: SEVERITYCODE, dtype: int64"
      ]
     },
     "execution_count": 139,
     "metadata": {},
     "output_type": "execute_result"
    }
   ],
   "source": [
    "y = data_temp_df['SEVERITYCODE']\n",
    "y.value_counts()"
   ]
  },
  {
   "cell_type": "code",
   "execution_count": 140,
   "metadata": {},
   "outputs": [
    {
     "data": {
      "text/plain": [
       "(180067, 6)"
      ]
     },
     "execution_count": 140,
     "metadata": {},
     "output_type": "execute_result"
    }
   ],
   "source": [
    "X.shape"
   ]
  },
  {
   "cell_type": "code",
   "execution_count": 141,
   "metadata": {},
   "outputs": [
    {
     "data": {
      "text/plain": [
       "(180067,)"
      ]
     },
     "execution_count": 141,
     "metadata": {},
     "output_type": "execute_result"
    }
   ],
   "source": [
    "y.shape"
   ]
  },
  {
   "cell_type": "markdown",
   "metadata": {},
   "source": [
    "\n",
    "\n",
    "<span style=\"color:Darkblue\">**Methodology**</span>  \n",
    "\n",
    "Label Y, 'SEVERITYCODE'variable has two outputs in our data set: **1—prop damage** and **2—injury**. A Linear Regression in this case would not be useful in producing appropriate classification since the label has binary outcome. That is why  a **Logistic Regression** is more appropriate. Logistic Regression relaxes some of the assumptions made by a linear regression model. The relationship between the dependent variable and the predictors does not have to be linear, the predictors do not have to be normally distributed and also heteroscedastic variances are not needed. Logistic Regression produces probabilities between zero and is used to predict the probability of an accident's severity.\n",
    "                                                                 "
   ]
  },
  {
   "cell_type": "code",
   "execution_count": 52,
   "metadata": {},
   "outputs": [
    {
     "name": "stdout",
     "output_type": "stream",
     "text": [
      "Train set: (144053, 6) (144053,)\n",
      "Test set: (36014, 6) (36014,)\n"
     ]
    }
   ],
   "source": [
    "from sklearn.model_selection import train_test_split\n",
    "X_train, X_test, y_train, y_test = train_test_split( X, y, test_size=0.2, random_state=4)\n",
    "print ('Train set:', X_train.shape,  y_train.shape)\n",
    "print ('Test set:', X_test.shape,  y_test.shape)\n"
   ]
  },
  {
   "cell_type": "code",
   "execution_count": 53,
   "metadata": {},
   "outputs": [
    {
     "data": {
      "text/plain": [
       "LogisticRegression(C=0.01, class_weight=None, dual=False, fit_intercept=True,\n",
       "          intercept_scaling=1, max_iter=100, multi_class='warn',\n",
       "          n_jobs=None, penalty='l2', random_state=None, solver='liblinear',\n",
       "          tol=0.0001, verbose=0, warm_start=False)"
      ]
     },
     "execution_count": 53,
     "metadata": {},
     "output_type": "execute_result"
    }
   ],
   "source": [
    "from sklearn.linear_model import LogisticRegression\n",
    "from sklearn.metrics import confusion_matrix\n",
    "LR = LogisticRegression(C=0.01, solver='liblinear').fit(X_train,y_train)\n",
    "LR"
   ]
  },
  {
   "cell_type": "code",
   "execution_count": 54,
   "metadata": {},
   "outputs": [
    {
     "data": {
      "text/plain": [
       "array([1, 1, 1, ..., 1, 1, 1])"
      ]
     },
     "execution_count": 54,
     "metadata": {},
     "output_type": "execute_result"
    }
   ],
   "source": [
    "yhat_lr = LR.predict(X_test)\n",
    "yhat_lr"
   ]
  },
  {
   "cell_type": "code",
   "execution_count": 55,
   "metadata": {},
   "outputs": [
    {
     "data": {
      "text/plain": [
       "array([[0.73, 0.27],\n",
       "       [0.67, 0.33],\n",
       "       [0.78, 0.22],\n",
       "       ...,\n",
       "       [0.76, 0.24],\n",
       "       [0.73, 0.27],\n",
       "       [0.73, 0.27]])"
      ]
     },
     "execution_count": 55,
     "metadata": {},
     "output_type": "execute_result"
    }
   ],
   "source": [
    "yhat_lr_prob = LR.predict_proba(X_test)\n",
    "yhat_lr_prob"
   ]
  },
  {
   "cell_type": "code",
   "execution_count": 56,
   "metadata": {},
   "outputs": [
    {
     "data": {
      "text/plain": [
       "0.6873438107402676"
      ]
     },
     "execution_count": 56,
     "metadata": {},
     "output_type": "execute_result"
    }
   ],
   "source": [
    "from sklearn.metrics import jaccard_similarity_score\n",
    "from sklearn.metrics import f1_score\n",
    "from sklearn.metrics import log_loss\n",
    "jaccard_similarity_score(y_test, yhat_lr)"
   ]
  },
  {
   "cell_type": "code",
   "execution_count": 57,
   "metadata": {},
   "outputs": [],
   "source": [
    "from sklearn.metrics import classification_report, confusion_matrix\n",
    "import itertools\n",
    "def plot_confusion_matrix(cm, classes,\n",
    "                          normalize=False,\n",
    "                          title='Confusion matrix',\n",
    "                          cmap=plt.cm.Blues):\n",
    "    \"\"\"\n",
    "    This function prints and plots the confusion matrix.\n",
    "    Normalization can be applied by setting `normalize=True`.\n",
    "    \"\"\"\n",
    "    if normalize:\n",
    "        cm = cm.astype('float') / cm.sum(axis=1)[:, np.newaxis]\n",
    "        print(\"Normalized confusion matrix\")\n",
    "    else:\n",
    "        print('Confusion matrix, without normalization')\n",
    "\n",
    "    print(cm)\n",
    "\n",
    "    plt.imshow(cm, interpolation='nearest', cmap=cmap)\n",
    "    plt.title(title)\n",
    "    plt.colorbar()\n",
    "    tick_marks = np.arange(len(classes))\n",
    "    plt.xticks(tick_marks, classes, rotation=45)\n",
    "    plt.yticks(tick_marks, classes)\n",
    "\n",
    "    fmt = '.2f' if normalize else 'd'\n",
    "    thresh = cm.max() / 2.\n",
    "    for i, j in itertools.product(range(cm.shape[0]), range(cm.shape[1])):\n",
    "        plt.text(j, i, format(cm[i, j], fmt),\n",
    "                 horizontalalignment=\"center\",\n",
    "                 color=\"white\" if cm[i, j] > thresh else \"black\")\n",
    "\n",
    "    plt.tight_layout()\n",
    "    plt.ylabel('True label')\n",
    "    plt.xlabel('Predicted label')\n"
   ]
  },
  {
   "cell_type": "code",
   "execution_count": 58,
   "metadata": {},
   "outputs": [
    {
     "name": "stdout",
     "output_type": "stream",
     "text": [
      "[[   66 11162]\n",
      " [   98 24688]]\n"
     ]
    }
   ],
   "source": [
    "print(confusion_matrix(y_test, yhat_lr, labels=[2,1]))"
   ]
  },
  {
   "cell_type": "code",
   "execution_count": 83,
   "metadata": {},
   "outputs": [
    {
     "name": "stdout",
     "output_type": "stream",
     "text": [
      "Confusion matrix, without normalization\n",
      "[[   66 11162]\n",
      " [   98 24688]]\n"
     ]
    },
    {
     "data": {
      "image/png": "[encoded data removed]",
      "text/plain": [
       "<Figure size 432x288 with 2 Axes>"
      ]
     },
     "metadata": {
      "needs_background": "light"
     },
     "output_type": "display_data"
    }
   ],
   "source": [
    "# Compute confusion matrix\n",
    "cnf_matrix = confusion_matrix(y_test, yhat_lr, labels=[2,1])\n",
    "np.set_printoptions(precision=2)\n",
    "\n",
    "# Plot non-normalized confusion matrix\n",
    "plt.figure()\n",
    "plot_confusion_matrix(cnf_matrix, classes=['injury','prop damage'],normalize= False,  title='Confusion matrix LR')"
   ]
  },
  {
   "cell_type": "code",
   "execution_count": 60,
   "metadata": {},
   "outputs": [
    {
     "name": "stdout",
     "output_type": "stream",
     "text": [
      "              precision    recall  f1-score   support\n",
      "\n",
      "           1       0.69      1.00      0.81     24786\n",
      "           2       0.40      0.01      0.01     11228\n",
      "\n",
      "   micro avg       0.69      0.69      0.69     36014\n",
      "   macro avg       0.55      0.50      0.41     36014\n",
      "weighted avg       0.60      0.69      0.56     36014\n",
      "\n"
     ]
    }
   ],
   "source": [
    "print (classification_report(y_test, yhat_lr))"
   ]
  },
  {
   "cell_type": "markdown",
   "metadata": {},
   "source": [
    "Looking at those results, we could say that LR is predicting well when it comes to predicting prop damage, but not so well when predicitng injury."
   ]
  },
  {
   "cell_type": "code",
   "execution_count": 61,
   "metadata": {},
   "outputs": [
    {
     "data": {
      "text/plain": [
       "0.6140519017648521"
      ]
     },
     "execution_count": 61,
     "metadata": {},
     "output_type": "execute_result"
    }
   ],
   "source": [
    "log_loss(y_test, yhat_lr_prob)"
   ]
  },
  {
   "cell_type": "markdown",
   "metadata": {},
   "source": [
    "Logloss is also not very comforting to use this model. Let's see some other classification models.  \n",
    "\n",
    "**K-Nearest Neighbors** is an algorithm for supervised learning. Where the data is 'trained' with data points corresponding to their classification. Once a point is to be predicted, it takes into account the 'K' nearest points to it to determine it's classification."
   ]
  },
  {
   "cell_type": "code",
   "execution_count": 142,
   "metadata": {},
   "outputs": [],
   "source": [
    "from sklearn.neighbors import KNeighborsClassifier\n",
    "from sklearn import metrics"
   ]
  },
  {
   "cell_type": "code",
   "execution_count": null,
   "metadata": {},
   "outputs": [],
   "source": [
    "Ks = 20\n",
    "mean_acc = np.zeros((Ks-1))\n",
    "std_acc = np.zeros((Ks-1))\n",
    "ConfustionMx = [];\n",
    "for n in range(1,Ks):\n",
    "    \n",
    "    #Train Model and Predict  \n",
    "    neigh = KNeighborsClassifier(n_neighbors = n).fit(X_train,y_train)\n",
    "    yhat=neigh.predict(X_test)\n",
    "    mean_acc[n-1] = metrics.accuracy_score(y_test, yhat)\n",
    "\n",
    "    \n",
    "    std_acc[n-1]=np.std(yhat==y_test)/np.sqrt(yhat.shape[0])\n",
    "\n",
    "mean_acc"
   ]
  },
  {
   "cell_type": "code",
   "execution_count": 144,
   "metadata": {
    "button": false,
    "new_sheet": false,
    "run_control": {
     "read_only": false
    }
   },
   "outputs": [
    {
     "data": {
      "image/png": "[encoded data removed]",
      "text/plain": [
       "<Figure size 432x288 with 1 Axes>"
      ]
     },
     "metadata": {
      "needs_background": "light"
     },
     "output_type": "display_data"
    }
   ],
   "source": [
    "plt.plot(range(1,Ks),mean_acc,'g')\n",
    "plt.fill_between(range(1,Ks),mean_acc - 1 * std_acc,mean_acc + 1 * std_acc, alpha=0.10)\n",
    "plt.legend(('Accuracy ', '+/- 3xstd'))\n",
    "plt.ylabel('Accuracy ')\n",
    "plt.xlabel('Number of Neighbours (K)')\n",
    "plt.tight_layout()\n",
    "plt.show()"
   ]
  },
  {
   "cell_type": "code",
   "execution_count": 65,
   "metadata": {
    "button": false,
    "new_sheet": false,
    "run_control": {
     "read_only": false
    }
   },
   "outputs": [
    {
     "name": "stdout",
     "output_type": "stream",
     "text": [
      "The best accuracy was with 0.6765424557116677 with k= 8\n"
     ]
    }
   ],
   "source": [
    "print( \"The best accuracy was with\", mean_acc.max(), \"with k=\", mean_acc.argmax()+1) "
   ]
  },
  {
   "cell_type": "code",
   "execution_count": 106,
   "metadata": {},
   "outputs": [],
   "source": [
    "k=13\n",
    "neigh = KNeighborsClassifier(n_neighbors = k).fit(X_train,y_train)\n",
    "yhat_knn=neigh.predict(X_test)"
   ]
  },
  {
   "cell_type": "code",
   "execution_count": 107,
   "metadata": {},
   "outputs": [
    {
     "name": "stdout",
     "output_type": "stream",
     "text": [
      "Confusion matrix, without normalization\n",
      "[[ 1396  9832]\n",
      " [ 1770 23016]]\n"
     ]
    },
    {
     "data": {
      "image/png": "[encoded data removed]",
      "text/plain": [
       "<Figure size 432x288 with 2 Axes>"
      ]
     },
     "metadata": {
      "needs_background": "light"
     },
     "output_type": "display_data"
    }
   ],
   "source": [
    "# Compute confusion matrix\n",
    "cnf_matrix = confusion_matrix(y_test, yhat_knn, labels=[2,1])\n",
    "np.set_printoptions(precision=2)\n",
    "\n",
    "# Plot non-normalized confusion matrix\n",
    "plt.figure()\n",
    "plot_confusion_matrix(cnf_matrix, classes=['injury','prop damage'],normalize= False,  title='Confusion matrix KNN')"
   ]
  },
  {
   "cell_type": "code",
   "execution_count": 108,
   "metadata": {},
   "outputs": [
    {
     "name": "stdout",
     "output_type": "stream",
     "text": [
      "[[ 1396  9832]\n",
      " [ 1770 23016]]\n"
     ]
    }
   ],
   "source": [
    "print(confusion_matrix(y_test, yhat_knn, labels=[2,1]))"
   ]
  },
  {
   "cell_type": "code",
   "execution_count": 109,
   "metadata": {},
   "outputs": [
    {
     "data": {
      "text/plain": [
       "{'SVM-jaccard': 0.6778475037485422, 'SVM-f1-score': 0.6101613675023041}"
      ]
     },
     "execution_count": 109,
     "metadata": {},
     "output_type": "execute_result"
    }
   ],
   "source": [
    "trainScores_knn={}\n",
    "trainScores_knn['SVM-jaccard']=jaccard_similarity_score(y_test, yhat_knn)\n",
    "trainScores_knn['SVM-f1-score']=f1_score(y_test, yhat_knn, average='weighted')\n",
    "trainScores_knn"
   ]
  },
  {
   "cell_type": "code",
   "execution_count": 110,
   "metadata": {},
   "outputs": [
    {
     "name": "stdout",
     "output_type": "stream",
     "text": [
      "              precision    recall  f1-score   support\n",
      "\n",
      "           1       0.70      0.93      0.80     24786\n",
      "           2       0.44      0.12      0.19     11228\n",
      "\n",
      "   micro avg       0.68      0.68      0.68     36014\n",
      "   macro avg       0.57      0.53      0.50     36014\n",
      "weighted avg       0.62      0.68      0.61     36014\n",
      "\n"
     ]
    }
   ],
   "source": [
    "print (classification_report(y_test, yhat_knn))"
   ]
  },
  {
   "cell_type": "markdown",
   "metadata": {},
   "source": [
    "we can see that knn is slightly better in predicting injury label than logistic regression."
   ]
  },
  {
   "cell_type": "markdown",
   "metadata": {},
   "source": [
    "# Support Vector Machine"
   ]
  },
  {
   "cell_type": "code",
   "execution_count": 70,
   "metadata": {},
   "outputs": [
    {
     "name": "stderr",
     "output_type": "stream",
     "text": [
      "/home/jupyterlab/conda/envs/python/lib/python3.6/site-packages/sklearn/svm/base.py:196: FutureWarning: The default value of gamma will change from 'auto' to 'scale' in version 0.22 to account better for unscaled features. Set gamma explicitly to 'auto' or 'scale' to avoid this warning.\n",
      "  \"avoid this warning.\", FutureWarning)\n"
     ]
    },
    {
     "data": {
      "text/plain": [
       "SVC(C=1.0, cache_size=200, class_weight=None, coef0=0.0,\n",
       "  decision_function_shape='ovr', degree=3, gamma='auto_deprecated',\n",
       "  kernel='rbf', max_iter=-1, probability=False, random_state=None,\n",
       "  shrinking=True, tol=0.001, verbose=False)"
      ]
     },
     "execution_count": 70,
     "metadata": {},
     "output_type": "execute_result"
    }
   ],
   "source": [
    "from sklearn import svm\n",
    "clf = svm.SVC(kernel='rbf')\n",
    "clf.fit(X_train, y_train) "
   ]
  },
  {
   "cell_type": "code",
   "execution_count": 71,
   "metadata": {},
   "outputs": [],
   "source": [
    "yhat_svm = clf.predict(X_test)"
   ]
  },
  {
   "cell_type": "code",
   "execution_count": 72,
   "metadata": {},
   "outputs": [
    {
     "data": {
      "text/plain": [
       "{'SVM-jaccard': 0.6883989559615705, 'SVM-f1-score': 0.564012356396813}"
      ]
     },
     "execution_count": 72,
     "metadata": {},
     "output_type": "execute_result"
    }
   ],
   "source": [
    "trainScores_svm={}\n",
    "trainScores_svm['SVM-jaccard']=jaccard_similarity_score(y_test, yhat_svm)\n",
    "trainScores_svm['SVM-f1-score']=f1_score(y_test, yhat_svm, average='weighted')\n",
    "trainScores_svm"
   ]
  },
  {
   "cell_type": "code",
   "execution_count": 74,
   "metadata": {},
   "outputs": [
    {
     "name": "stdout",
     "output_type": "stream",
     "text": [
      "Confusion matrix, without normalization\n",
      "[[   55 11173]\n",
      " [   49 24737]]\n"
     ]
    },
    {
     "data": {
      "image/png": "[encoded data removed]",
      "text/plain": [
       "<Figure size 432x288 with 2 Axes>"
      ]
     },
     "metadata": {
      "needs_background": "light"
     },
     "output_type": "display_data"
    }
   ],
   "source": [
    "# Compute confusion matrix\n",
    "cnf_matrix = confusion_matrix(y_test, yhat_svm, labels=[2,1])\n",
    "np.set_printoptions(precision=2)\n",
    "\n",
    "# Plot non-normalized confusion matrix\n",
    "plt.figure()\n",
    "plot_confusion_matrix(cnf_matrix, classes=['injury','prop damage'],normalize= False,  title='Confusion matrix SVM')"
   ]
  },
  {
   "cell_type": "code",
   "execution_count": 111,
   "metadata": {},
   "outputs": [
    {
     "name": "stdout",
     "output_type": "stream",
     "text": [
      "              precision    recall  f1-score   support\n",
      "\n",
      "           1       0.69      1.00      0.82     24786\n",
      "           2       0.53      0.00      0.01     11228\n",
      "\n",
      "   micro avg       0.69      0.69      0.69     36014\n",
      "   macro avg       0.61      0.50      0.41     36014\n",
      "weighted avg       0.64      0.69      0.56     36014\n",
      "\n"
     ]
    }
   ],
   "source": [
    "print (classification_report(y_test, yhat_svm))"
   ]
  },
  {
   "cell_type": "code",
   "execution_count": 112,
   "metadata": {},
   "outputs": [],
   "source": [
    "f1_score_knn = round(f1_score(y_test, yhat_knn, average='weighted'),2)\n",
    "f1_score_svm = round(f1_score(y_test, yhat_svm, average='weighted'),2)\n",
    "f1_score_lr = round(f1_score(y_test, yhat_lr, average='weighted'),2) "
   ]
  },
  {
   "cell_type": "code",
   "execution_count": 113,
   "metadata": {},
   "outputs": [],
   "source": [
    "jaccard_knn = round(jaccard_similarity_score(y_test, yhat_knn),2)\n",
    "jaccard_svm = round(jaccard_similarity_score(y_test, yhat_svm),2)\n",
    "jaccard_lr = round(jaccard_similarity_score(y_test, yhat_lr),2)"
   ]
  },
  {
   "cell_type": "code",
   "execution_count": 114,
   "metadata": {},
   "outputs": [
    {
     "data": {
      "text/html": [
       "<div>\n",
       "<style scoped>\n",
       "    .dataframe tbody tr th:only-of-type {\n",
       "        vertical-align: middle;\n",
       "    }\n",
       "\n",
       "    .dataframe tbody tr th {\n",
       "        vertical-align: top;\n",
       "    }\n",
       "\n",
       "    .dataframe thead th {\n",
       "        text-align: right;\n",
       "    }\n",
       "</style>\n",
       "<table border=\"1\" class=\"dataframe\">\n",
       "  <thead>\n",
       "    <tr style=\"text-align: right;\">\n",
       "      <th></th>\n",
       "      <th>Jaccard</th>\n",
       "      <th>F1-score</th>\n",
       "    </tr>\n",
       "  </thead>\n",
       "  <tbody>\n",
       "    <tr>\n",
       "      <th>KNN</th>\n",
       "      <td>0.68</td>\n",
       "      <td>0.61</td>\n",
       "    </tr>\n",
       "    <tr>\n",
       "      <th>SVM</th>\n",
       "      <td>0.69</td>\n",
       "      <td>0.56</td>\n",
       "    </tr>\n",
       "    <tr>\n",
       "      <th>LogisticRegression</th>\n",
       "      <td>0.69</td>\n",
       "      <td>0.56</td>\n",
       "    </tr>\n",
       "  </tbody>\n",
       "</table>\n",
       "</div>"
      ],
      "text/plain": [
       "                    Jaccard  F1-score\n",
       "KNN                    0.68      0.61\n",
       "SVM                    0.69      0.56\n",
       "LogisticRegression     0.69      0.56"
      ]
     },
     "execution_count": 114,
     "metadata": {},
     "output_type": "execute_result"
    }
   ],
   "source": [
    "d = {'Jaccard' : pd.Series([jaccard_knn, jaccard_svm, jaccard_lr], index =['KNN',  'SVM', 'LogisticRegression']), \n",
    "     'F1-score' : pd.Series([f1_score_knn, f1_score_svm, f1_score_lr], index =['KNN', 'SVM', 'LogisticRegression']),\n",
    "     }\n",
    "Report = pd.DataFrame(d) \n",
    "Report"
   ]
  },
  {
   "cell_type": "markdown",
   "metadata": {},
   "source": []
  }
 ],
 "metadata": {
  "kernelspec": {
   "display_name": "Python",
   "language": "python",
   "name": "conda-env-python-py"
  },
  "language_info": {
   "codemirror_mode": {
    "name": "ipython",
    "version": 3
   },
   "file_extension": ".py",
   "mimetype": "text/x-python",
   "name": "python",
   "nbconvert_exporter": "python",
   "pygments_lexer": "ipython3",
   "version": "3.6.11"
  }
 },
 "nbformat": 4,
 "nbformat_minor": 4
}
