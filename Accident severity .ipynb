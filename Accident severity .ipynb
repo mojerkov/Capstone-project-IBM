{
    "cells": [
        {
            "cell_type": "markdown",
            "metadata": {
                "collapsed": true
            },
            "source": "### Introduction/Business Problem\nThe goal of this project is to predict the severity of an accident. Car accidents are undesirable and dangerous for all traffic participants. Information about road conditions and possibility of one getting into car accident and its intensity could be signal for changing a traffic route. This, along with driving safely at all time, could save many lives caused by traffic disasters. Therefore, prediction of traffic accident severity is one of the main things that improve traffic management process. Since car accidents are unexpected, recognition of most important influences might be a substantial key for improving traffic safety. \n\n\n\n\n\n\n"
        },
        {
            "cell_type": "markdown",
            "metadata": {},
            "source": "### Data\nData used in this project are data about trafic collisions recorded in Seattle area. All data are provided by *Seattle Police Department* and recorded by *Traffic Records* since 2004. In total, there are 37 attributes.  Target of the data is severity which describes the fatality of an accident. Data that might contribute to determining accident severity might include collision address type ( ADDRTYPE), date and time (INCDTTM), category of junction (JUNCTIONTYPE), whether or not a driver involved is under the influence of drugs or alcohol (UNDERINFL), weather conditions (WEATHER), condition of the road (ROADCOND), light conditions (LIGHTCOND) and a key for the crosswalk (CROSSWALKKEY).\n"
        },
        {
            "cell_type": "code",
            "execution_count": null,
            "metadata": {},
            "outputs": [],
            "source": ""
        }
    ],
    "metadata": {
        "kernelspec": {
            "display_name": "Python 3.6",
            "language": "python",
            "name": "python3"
        },
        "language_info": {
            "codemirror_mode": {
                "name": "ipython",
                "version": 3
            },
            "file_extension": ".py",
            "mimetype": "text/x-python",
            "name": "python",
            "nbconvert_exporter": "python",
            "pygments_lexer": "ipython3",
            "version": "3.6.9"
        }
    },
    "nbformat": 4,
    "nbformat_minor": 1
}